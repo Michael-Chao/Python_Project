{
 "cells": [
  {
   "cell_type": "code",
   "execution_count": 46,
   "metadata": {
    "collapsed": true,
    "pycharm": {
     "is_executing": false
    }
   },
   "outputs": [],
   "source": [
    "import plotly as py\n",
    "import numpy as np\n",
    "import pandas as pd\n",
    "import plotly.figure_factory as ff"
   ]
  },
  {
   "cell_type": "code",
   "execution_count": 47,
   "outputs": [
    {
     "data": {
      "text/plain": "                                                 Task      Start      Finish\n0            Overall program design and demonstration   2020/1/1    2020/4/1\n1   Design and demonstration of backscattering sen...   2020/4/1    2020/6/1\n2    Design of backscattering sensor network platform   2020/6/1    2020/8/1\n3   Development and measurement of backscattering ...   2020/8/1   2020/10/1\n4   Development and test of backscattering sensor ...  2020/10/1   2020/12/1\n5   Design and demonstration of moving edge comput...  2020/12/1    2021/2/1\n6                                    Algorithm design   2021/2/1    2021/4/1\n7                  Code implementation and modulation   2021/4/1    2021/6/1\n8          Discusses algorithms and optimization code   2021/6/1    2021/8/1\n9   Edge computing and communication scheme design...   2021/8/1   2021/10/1\n10                     Edge learning algorithm design  2021/10/1   2021/12/1\n11                     Communication algorithm design  2021/12/1    2022/2/1\n12                 Code implementation and modulation   2022/2/1    2022/4/1\n13         Discusses algorithms and optimization code   2022/4/1    2022/6/1\n14                            System integration test   2022/6/1    2022/8/1\n15                                       The measured   2022/8/1   2022/11/1\n16                       Topic summary and conclusion  2022/11/1  2022/12/31",
      "text/html": "<div>\n<style scoped>\n    .dataframe tbody tr th:only-of-type {\n        vertical-align: middle;\n    }\n\n    .dataframe tbody tr th {\n        vertical-align: top;\n    }\n\n    .dataframe thead th {\n        text-align: right;\n    }\n</style>\n<table border=\"1\" class=\"dataframe\">\n  <thead>\n    <tr style=\"text-align: right;\">\n      <th></th>\n      <th>Task</th>\n      <th>Start</th>\n      <th>Finish</th>\n    </tr>\n  </thead>\n  <tbody>\n    <tr>\n      <td>0</td>\n      <td>Overall program design and demonstration</td>\n      <td>2020/1/1</td>\n      <td>2020/4/1</td>\n    </tr>\n    <tr>\n      <td>1</td>\n      <td>Design and demonstration of backscattering sen...</td>\n      <td>2020/4/1</td>\n      <td>2020/6/1</td>\n    </tr>\n    <tr>\n      <td>2</td>\n      <td>Design of backscattering sensor network platform</td>\n      <td>2020/6/1</td>\n      <td>2020/8/1</td>\n    </tr>\n    <tr>\n      <td>3</td>\n      <td>Development and measurement of backscattering ...</td>\n      <td>2020/8/1</td>\n      <td>2020/10/1</td>\n    </tr>\n    <tr>\n      <td>4</td>\n      <td>Development and test of backscattering sensor ...</td>\n      <td>2020/10/1</td>\n      <td>2020/12/1</td>\n    </tr>\n    <tr>\n      <td>5</td>\n      <td>Design and demonstration of moving edge comput...</td>\n      <td>2020/12/1</td>\n      <td>2021/2/1</td>\n    </tr>\n    <tr>\n      <td>6</td>\n      <td>Algorithm design</td>\n      <td>2021/2/1</td>\n      <td>2021/4/1</td>\n    </tr>\n    <tr>\n      <td>7</td>\n      <td>Code implementation and modulation</td>\n      <td>2021/4/1</td>\n      <td>2021/6/1</td>\n    </tr>\n    <tr>\n      <td>8</td>\n      <td>Discusses algorithms and optimization code</td>\n      <td>2021/6/1</td>\n      <td>2021/8/1</td>\n    </tr>\n    <tr>\n      <td>9</td>\n      <td>Edge computing and communication scheme design...</td>\n      <td>2021/8/1</td>\n      <td>2021/10/1</td>\n    </tr>\n    <tr>\n      <td>10</td>\n      <td>Edge learning algorithm design</td>\n      <td>2021/10/1</td>\n      <td>2021/12/1</td>\n    </tr>\n    <tr>\n      <td>11</td>\n      <td>Communication algorithm design</td>\n      <td>2021/12/1</td>\n      <td>2022/2/1</td>\n    </tr>\n    <tr>\n      <td>12</td>\n      <td>Code implementation and modulation</td>\n      <td>2022/2/1</td>\n      <td>2022/4/1</td>\n    </tr>\n    <tr>\n      <td>13</td>\n      <td>Discusses algorithms and optimization code</td>\n      <td>2022/4/1</td>\n      <td>2022/6/1</td>\n    </tr>\n    <tr>\n      <td>14</td>\n      <td>System integration test</td>\n      <td>2022/6/1</td>\n      <td>2022/8/1</td>\n    </tr>\n    <tr>\n      <td>15</td>\n      <td>The measured</td>\n      <td>2022/8/1</td>\n      <td>2022/11/1</td>\n    </tr>\n    <tr>\n      <td>16</td>\n      <td>Topic summary and conclusion</td>\n      <td>2022/11/1</td>\n      <td>2022/12/31</td>\n    </tr>\n  </tbody>\n</table>\n</div>"
     },
     "metadata": {},
     "output_type": "execute_result",
     "execution_count": 47
    }
   ],
   "source": [
    "data = pd.read_csv(\"gantt.csv\")\n",
    "data"
   ],
   "metadata": {
    "collapsed": false,
    "pycharm": {
     "name": "#%%\n",
     "is_executing": false
    }
   }
  },
  {
   "cell_type": "code",
   "execution_count": 48,
   "outputs": [
    {
     "data": {
      "text/plain": "Task      Topic summary and conclusion\nStart                        2022/11/1\nFinish                      2022/12/31\nName: 16, dtype: object"
     },
     "metadata": {},
     "output_type": "execute_result",
     "execution_count": 48
    }
   ],
   "source": [
    "data.iloc[-1]"
   ],
   "metadata": {
    "collapsed": false,
    "pycharm": {
     "name": "#%%\n",
     "is_executing": false
    }
   }
  },
  {
   "cell_type": "code",
   "execution_count": 49,
   "outputs": [
    {
     "data": {
      "text/plain": "Task      Design and demonstration of backscattering sen...\nStart                                              2020/4/1\nFinish                                             2020/6/1\nName: 1, dtype: object"
     },
     "metadata": {},
     "output_type": "execute_result",
     "execution_count": 49
    }
   ],
   "source": [
    "data.iloc[1]"
   ],
   "metadata": {
    "collapsed": false,
    "pycharm": {
     "name": "#%%\n",
     "is_executing": false
    }
   }
  },
  {
   "cell_type": "code",
   "execution_count": 49,
   "outputs": [],
   "source": [],
   "metadata": {
    "collapsed": false,
    "pycharm": {
     "name": "#%%\n",
     "is_executing": false
    }
   }
  },
  {
   "cell_type": "code",
   "execution_count": 59,
   "outputs": [
    {
     "data": {
      "text/plain": "'temp-plot.html'"
     },
     "metadata": {},
     "output_type": "execute_result",
     "execution_count": 59
    }
   ],
   "source": [
    "df = pd.read_csv('https://raw.githubusercontent.com/plotly/datasets/master/gantt_example.csv')\n",
    "\n",
    "fig = ff.create_gantt(df)\n",
    "pyplt(fig)"
   ],
   "metadata": {
    "collapsed": false,
    "pycharm": {
     "name": "#%%\n",
     "is_executing": false
    }
   }
  },
  {
   "cell_type": "code",
   "execution_count": 57,
   "outputs": [
    {
     "traceback": [
      "\u001b[1;31m---------------------------------------------------------------------------\u001b[0m",
      "\u001b[1;31mTypeError\u001b[0m                                 Traceback (most recent call last)",
      "\u001b[1;32m<ipython-input-57-158cec494f68>\u001b[0m in \u001b[0;36m<module>\u001b[1;34m\u001b[0m\n\u001b[0;32m      6\u001b[0m fig = ff.create_gantt(df, colors=['#333F44', '#93e4c1'], index_col='Complete', show_colorbar=True,\n\u001b[0;32m      7\u001b[0m                       bar_width=0.2, showgrid_x=True, showgrid_y=True)\n\u001b[1;32m----> 8\u001b[1;33m \u001b[0mpyplt\u001b[0m\u001b[1;33m(\u001b[0m\u001b[0mfig\u001b[0m\u001b[1;33m,\u001b[0m \u001b[0mfilename\u001b[0m\u001b[1;33m=\u001b[0m\u001b[1;34m'gantt-use-a-pandas-dataframe'\u001b[0m\u001b[1;33m,\u001b[0m \u001b[0mworld_readable\u001b[0m\u001b[1;33m=\u001b[0m\u001b[1;32mTrue\u001b[0m\u001b[1;33m)\u001b[0m\u001b[1;33m\u001b[0m\u001b[1;33m\u001b[0m\u001b[0m\n\u001b[0m",
      "\u001b[1;31mTypeError\u001b[0m: plot() got an unexpected keyword argument 'world_readable'"
     ],
     "ename": "TypeError",
     "evalue": "plot() got an unexpected keyword argument 'world_readable'",
     "output_type": "error"
    }
   ],
   "source": [],
   "metadata": {
    "collapsed": false,
    "pycharm": {
     "name": "#%%\n",
     "is_executing": false
    }
   }
  },
  {
   "cell_type": "code",
   "execution_count": null,
   "outputs": [],
   "source": [],
   "metadata": {
    "collapsed": false,
    "pycharm": {
     "name": "#%%\n",
     "is_executing": false
    }
   }
  },
  {
   "cell_type": "code",
   "execution_count": null,
   "outputs": [],
   "source": [
    "\n"
   ],
   "metadata": {
    "collapsed": false,
    "pycharm": {
     "name": "#%%\n",
     "is_executing": false
    }
   }
  }
 ],
 "metadata": {
  "kernelspec": {
   "display_name": "Python 3",
   "language": "python",
   "name": "python3"
  },
  "language_info": {
   "codemirror_mode": {
    "name": "ipython",
    "version": 2
   },
   "file_extension": ".py",
   "mimetype": "text/x-python",
   "name": "python",
   "nbconvert_exporter": "python",
   "pygments_lexer": "ipython2",
   "version": "2.7.6"
  },
  "pycharm": {
   "stem_cell": {
    "cell_type": "raw",
    "source": [],
    "metadata": {
     "collapsed": false
    }
   }
  }
 },
 "nbformat": 4,
 "nbformat_minor": 0
}